{
 "cells": [
  {
   "cell_type": "markdown",
   "metadata": {},
   "source": [
    "# Collaboration and Competition\n",
    "\n",
    "---\n",
    "\n",
    "In this notebook, you will learn how to use the Unity ML-Agents environment for the third project of the [Deep Reinforcement Learning Nanodegree](https://www.udacity.com/course/deep-reinforcement-learning-nanodegree--nd893) program.\n",
    "\n",
    "### 1. Start the Environment\n",
    "\n",
    "We begin by importing the necessary packages.  If the code cell below returns an error, please revisit the project instructions to double-check that you have installed [Unity ML-Agents](https://github.com/Unity-Technologies/ml-agents/blob/master/docs/Installation.md) and [NumPy](http://www.numpy.org/)."
   ]
  },
  {
   "cell_type": "code",
   "execution_count": 1,
   "metadata": {},
   "outputs": [],
   "source": [
    "from unityagents import UnityEnvironment\n",
    "import numpy as np"
   ]
  },
  {
   "cell_type": "markdown",
   "metadata": {},
   "source": [
    "Next, we will start the environment!  **_Before running the code cell below_**, change the `file_name` parameter to match the location of the Unity environment that you downloaded.\n",
    "\n",
    "- **Mac**: `\"path/to/Tennis.app\"`\n",
    "- **Windows** (x86): `\"path/to/Tennis_Windows_x86/Tennis.exe\"`\n",
    "- **Windows** (x86_64): `\"path/to/Tennis_Windows_x86_64/Tennis.exe\"`\n",
    "- **Linux** (x86): `\"path/to/Tennis_Linux/Tennis.x86\"`\n",
    "- **Linux** (x86_64): `\"path/to/Tennis_Linux/Tennis.x86_64\"`\n",
    "- **Linux** (x86, headless): `\"path/to/Tennis_Linux_NoVis/Tennis.x86\"`\n",
    "- **Linux** (x86_64, headless): `\"path/to/Tennis_Linux_NoVis/Tennis.x86_64\"`\n",
    "\n",
    "For instance, if you are using a Mac, then you downloaded `Tennis.app`.  If this file is in the same folder as the notebook, then the line below should appear as follows:\n",
    "```\n",
    "env = UnityEnvironment(file_name=\"Tennis.app\")\n",
    "```"
   ]
  },
  {
   "cell_type": "code",
   "execution_count": 2,
   "metadata": {},
   "outputs": [
    {
     "name": "stderr",
     "output_type": "stream",
     "text": [
      "INFO:unityagents:\n",
      "'Academy' started successfully!\n",
      "Unity Academy name: Academy\n",
      "        Number of Brains: 1\n",
      "        Number of External Brains : 1\n",
      "        Lesson number : 0\n",
      "        Reset Parameters :\n",
      "\t\t\n",
      "Unity brain name: TennisBrain\n",
      "        Number of Visual Observations (per agent): 0\n",
      "        Vector Observation space type: continuous\n",
      "        Vector Observation space size (per agent): 8\n",
      "        Number of stacked Vector Observation: 3\n",
      "        Vector Action space type: continuous\n",
      "        Vector Action space size (per agent): 2\n",
      "        Vector Action descriptions: , \n"
     ]
    }
   ],
   "source": [
    "env = UnityEnvironment(file_name=\"Tennis.app\")"
   ]
  },
  {
   "cell_type": "markdown",
   "metadata": {},
   "source": [
    "Environments contain **_brains_** which are responsible for deciding the actions of their associated agents. Here we check for the first brain available, and set it as the default brain we will be controlling from Python."
   ]
  },
  {
   "cell_type": "code",
   "execution_count": 3,
   "metadata": {},
   "outputs": [],
   "source": [
    "# get the default brain\n",
    "brain_name = env.brain_names[0]\n",
    "brain = env.brains[brain_name]"
   ]
  },
  {
   "cell_type": "markdown",
   "metadata": {},
   "source": [
    "### 2. Examine the State and Action Spaces\n",
    "\n",
    "In this environment, two agents control rackets to bounce a ball over a net. If an agent hits the ball over the net, it receives a reward of +0.1.  If an agent lets a ball hit the ground or hits the ball out of bounds, it receives a reward of -0.01.  Thus, the goal of each agent is to keep the ball in play.\n",
    "\n",
    "The observation space consists of 8 variables corresponding to the position and velocity of the ball and racket. Two continuous actions are available, corresponding to movement toward (or away from) the net, and jumping. \n",
    "\n",
    "Run the code cell below to print some information about the environment."
   ]
  },
  {
   "cell_type": "code",
   "execution_count": 4,
   "metadata": {},
   "outputs": [
    {
     "name": "stdout",
     "output_type": "stream",
     "text": [
      "Number of agents: 2\n",
      "Size of each action: 2\n",
      "There are 2 agents. Each observes a state with length: 24\n",
      "The state for the first agent looks like: [ 0.          0.          0.          0.          0.          0.\n",
      "  0.          0.          0.          0.          0.          0.\n",
      "  0.          0.          0.          0.         -6.65278625 -1.5\n",
      " -0.          0.          6.83172083  6.         -0.          0.        ]\n"
     ]
    }
   ],
   "source": [
    "# reset the environment\n",
    "env_info = env.reset(train_mode=True)[brain_name]\n",
    "\n",
    "# number of agents \n",
    "num_agents = len(env_info.agents)\n",
    "print('Number of agents:', num_agents)\n",
    "\n",
    "# size of each action\n",
    "action_size = brain.vector_action_space_size\n",
    "print('Size of each action:', action_size)\n",
    "\n",
    "# examine the state space \n",
    "states = env_info.vector_observations\n",
    "state_size = states.shape[1]\n",
    "print('There are {} agents. Each observes a state with length: {}'.format(states.shape[0], state_size))\n",
    "print('The state for the first agent looks like:', states[0])"
   ]
  },
  {
   "cell_type": "markdown",
   "metadata": {},
   "source": [
    "### 3. Take Random Actions in the Environment\n",
    "\n",
    "In the next code cell, you will learn how to use the Python API to control the agents and receive feedback from the environment.\n",
    "\n",
    "Once this cell is executed, you will watch the agents' performance, if they select actions at random with each time step.  A window should pop up that allows you to observe the agents.\n",
    "\n",
    "Of course, as part of the project, you'll have to change the code so that the agents are able to use their experiences to gradually choose better actions when interacting with the environment!"
   ]
  },
  {
   "cell_type": "code",
   "execution_count": 12,
   "metadata": {},
   "outputs": [
    {
     "name": "stdout",
     "output_type": "stream",
     "text": [
      "Score (max over agents) from episode 1: 0.19000000320374966\n",
      "Score (max over agents) from episode 2: 0.0\n",
      "Score (max over agents) from episode 3: 0.09000000171363354\n",
      "Score (max over agents) from episode 4: 0.10000000149011612\n",
      "Score (max over agents) from episode 5: 0.0\n"
     ]
    }
   ],
   "source": [
    "for i in range(1, 6):                                      # play game for 5 episodes\n",
    "    env_info = env.reset(train_mode=False)[brain_name]     # reset the environment    \n",
    "    states = env_info.vector_observations                  # get the current state (for each agent)\n",
    "    scores = np.zeros(num_agents)                          # initialize the score (for each agent)\n",
    "    while True:\n",
    "        actions = np.random.randn(num_agents, action_size) # select an action (for each agent)\n",
    "        actions = np.clip(actions, -1, 1)                  # all actions between -1 and 1\n",
    "        env_info = env.step(actions)[brain_name]           # send all actions to tne environment\n",
    "        next_states = env_info.vector_observations         # get next state (for each agent)\n",
    "        rewards = env_info.rewards                         # get reward (for each agent)\n",
    "        dones = env_info.local_done                        # see if episode finished\n",
    "        scores += env_info.rewards                         # update the score (for each agent)\n",
    "        states = next_states                               # roll over states to next time step\n",
    "        if np.any(dones):                                  # exit loop if episode finished\n",
    "            break\n",
    "    print('Score (max over agents) from episode {}: {}'.format(i, np.max(scores)))"
   ]
  },
  {
   "cell_type": "markdown",
   "metadata": {},
   "source": [
    "When finished, you can close the environment."
   ]
  },
  {
   "cell_type": "code",
   "execution_count": 10,
   "metadata": {},
   "outputs": [],
   "source": [
    "#env.close()"
   ]
  },
  {
   "cell_type": "markdown",
   "metadata": {},
   "source": [
    "### 4. It's Your Turn!\n",
    "\n",
    "Now it's your turn to train your own agent to solve the environment!  When training the environment, set `train_mode=True`, so that the line for resetting the environment looks like the following:\n",
    "```python\n",
    "env_info = env.reset(train_mode=True)[brain_name]\n",
    "```"
   ]
  },
  {
   "cell_type": "code",
   "execution_count": 5,
   "metadata": {},
   "outputs": [],
   "source": [
    "# Instantiate the agents\n",
    "from agent import Agent\n",
    "from collections import namedtuple, deque\n",
    "import torch\n",
    "import matplotlib.pyplot as plt\n",
    "%matplotlib inline\n",
    "\n",
    "agent1 = Agent(state_size=state_size, action_size=action_size, num_agents=1, random_seed=0)\n",
    "agent2 = Agent(state_size=state_size, action_size=action_size, num_agents=1, random_seed=0)"
   ]
  },
  {
   "cell_type": "code",
   "execution_count": 6,
   "metadata": {},
   "outputs": [
    {
     "name": "stdout",
     "output_type": "stream",
     "text": [
      "Episode:50\tScore:0.00\tBest Score:0.10\t\tAverage Score:0.01\n",
      "Episode:100\tScore:0.00\tBest Score:0.10\t\tAverage Score:0.01\n",
      "Episode:150\tScore:0.00\tBest Score:0.10\t\tAverage Score:0.01\n",
      "Episode:200\tScore:0.00\tBest Score:0.10\t\tAverage Score:0.02\n",
      "Episode:250\tScore:0.09\tBest Score:0.10\t\tAverage Score:0.02\n",
      "Episode:300\tScore:0.09\tBest Score:0.10\t\tAverage Score:0.02\n",
      "Episode:350\tScore:0.00\tBest Score:0.20\t\tAverage Score:0.05\n",
      "Episode:400\tScore:0.00\tBest Score:0.30\t\tAverage Score:0.07\n",
      "Episode:450\tScore:0.10\tBest Score:0.30\t\tAverage Score:0.08\n",
      "Episode:500\tScore:0.10\tBest Score:0.70\t\tAverage Score:0.09\n",
      "Episode:550\tScore:0.40\tBest Score:1.30\t\tAverage Score:0.20\n",
      "Episode:600\tScore:0.00\tBest Score:2.10\t\tAverage Score:0.26\n",
      "Episode:650\tScore:0.00\tBest Score:2.10\t\tAverage Score:0.24\n",
      "Episode:700\tScore:0.10\tBest Score:2.10\t\tAverage Score:0.23\n",
      "Episode:750\tScore:0.10\tBest Score:2.60\t\tAverage Score:0.30\n",
      "Episode:800\tScore:0.10\tBest Score:2.60\t\tAverage Score:0.36\n",
      "Episode:850\tScore:0.20\tBest Score:2.60\t\tAverage Score:0.42\n",
      "Environment solved in 878 episodes2.70\t\tAverage Score:0.52\n"
     ]
    }
   ],
   "source": [
    "def ddpg(n_episodes=1500, max_steps=10000):\n",
    "    scores_mean = deque(maxlen=100)\n",
    "    scores = []\n",
    "    best_score = 0\n",
    "    \n",
    "    for i_episode in range(1, n_episodes+1):\n",
    "        \n",
    "        # Initializing environment and variables for each episode\n",
    "        env_info = env.reset(train_mode=True)[brain_name]\n",
    "        states = env_info.vector_observations    \n",
    "        states = np.reshape(states, (1, 48))\n",
    "        scores_agents = np.zeros(num_agents)             \n",
    "        average_score = 0\n",
    "        score = 0\n",
    "        agent1.reset()\n",
    "        agent2.reset()\n",
    "    \n",
    "        #for step in range(max_steps):\n",
    "        while True:\n",
    "            # select an action (for each agent)\n",
    "            act_1 = agent1.act(states)\n",
    "            act_2 = agent2.act(states)\n",
    "            \n",
    "            # concatenate the actions and reshape them for the environment\n",
    "            actions = np.reshape(np.concatenate((act_1, act_2), axis=0),(1,4)) \n",
    "            \n",
    "            # send both agents' actions together to the environment\n",
    "            env_info = env.step(actions)[brain_name]     \n",
    "            \n",
    "            # get next states and reshape them \n",
    "            next_states = np.reshape(env_info.vector_observations, (1, 48))\n",
    "            rewards = env_info.rewards                   \n",
    "            done = env_info.local_done\n",
    "            \n",
    "            # Train the agents\n",
    "            agent1.step(states, actions, rewards[0], next_states, done, 0)\n",
    "            agent2.step(states, actions, rewards[1], next_states, done, 1)\n",
    "            \n",
    "            states = next_states\n",
    "            scores_agents += rewards\n",
    "            \n",
    "            if np.any(done):\n",
    "                break\n",
    "                \n",
    "        score = scores_agents.max()\n",
    "        scores_mean.append(score)\n",
    "        average_score = np.mean(scores_mean)\n",
    "        scores.append(score)\n",
    "        \n",
    "        if score > best_score:\n",
    "            best_score = score\n",
    "            torch.save(agent1.actor_local.state_dict(), 'checkpoint_actor_1.pth')\n",
    "            torch.save(agent1.critic_local.state_dict(), 'checkpoint_critic_1.pth')\n",
    "            torch.save(agent2.actor_local.state_dict(), 'checkpoint_actor_2.pth')\n",
    "            torch.save(agent2.critic_local.state_dict(), 'checkpoint_critic_2.pth')\n",
    "        \n",
    "        print(\"\\rEpisode:{}\\tScore:{:.2f}\\tBest Score:{:.2f}\\t\\tAverage Score:{:.2f}\".format(i_episode, score, best_score, average_score), end=\"\")\n",
    "        if i_episode % 50 == 0:\n",
    "            print(\"\\rEpisode:{}\\tScore:{:.2f}\\tBest Score:{:.2f}\\t\\tAverage Score:{:.2f}\".format(i_episode, score, best_score, average_score))\n",
    "        if average_score > 0.5:\n",
    "            #print(\"\\rEpisode:{}, Score:{:.2f}, Best Score:{:.2f}, Average Score:{:.2f}\".format(i_episode, score, best_score, average_score))\n",
    "            print('\\rEnvironment solved in {:d} episodes'.format(i_episode))\n",
    "            break\n",
    "\n",
    "    return scores\n",
    "\n",
    "\n",
    "scores = ddpg()\n"
   ]
  },
  {
   "cell_type": "code",
   "execution_count": 7,
   "metadata": {},
   "outputs": [
    {
     "data": {
      "image/png": "[encoded data removed]",
      "text/plain": [
       "<Figure size 432x288 with 1 Axes>"
      ]
     },
     "metadata": {},
     "output_type": "display_data"
    }
   ],
   "source": [
    "# Plot chart scores\n",
    "fig = plt.figure()\n",
    "ax = fig.add_subplot(111)\n",
    "plt.plot(np.arange(1, len(scores)+1), scores)\n",
    "plt.ylabel('Score')\n",
    "plt.xlabel('Episode #')\n",
    "plt.show()"
   ]
  },
  {
   "cell_type": "markdown",
   "metadata": {},
   "source": [
    "# Load and watch the trained MADDPG algorithm"
   ]
  },
  {
   "cell_type": "code",
   "execution_count": 9,
   "metadata": {},
   "outputs": [],
   "source": [
    "# Load the saved training parameters\n",
    "agent1.actor_local.load_state_dict(torch.load('checkpoint_actor_1.pth', map_location='cpu'))\n",
    "agent1.critic_local.load_state_dict(torch.load('checkpoint_critic_1.pth', map_location='cpu'))\n",
    "agent2.actor_local.load_state_dict(torch.load('checkpoint_actor_2.pth', map_location='cpu'))\n",
    "agent2.critic_local.load_state_dict(torch.load('checkpoint_critic_2.pth', map_location='cpu'))\n",
    "\n",
    "\n",
    "# play 3 games\n",
    "for game in range(1, 4):\n",
    "    # Set environment to evalulation mode\n",
    "    env_info = env.reset(train_mode=False)[brain_name]        \n",
    "    states = env_info.vector_observations                  \n",
    "    states = np.reshape(states, (1,48))\n",
    "\n",
    "    while True:\n",
    "        action_0 = agent1.act(states)\n",
    "        action_1 = agent2.act(states)        \n",
    "        actions = np.concatenate((action_0, action_1), axis=0) \n",
    "        actions = np.reshape(actions, (1, 4))\n",
    "        env_info = env.step(actions)[brain_name]        \n",
    "        next_states = env_info.vector_observations        \n",
    "        next_states = np.reshape(next_states, (1, 48))\n",
    "        rewards = env_info.rewards                        \n",
    "        dones = env_info.local_done                 \n",
    "        states = next_states                              \n",
    "        if np.any(dones):                              \n",
    "            break"
   ]
  },
  {
   "cell_type": "code",
   "execution_count": null,
   "metadata": {},
   "outputs": [],
   "source": []
  },
  {
   "cell_type": "code",
   "execution_count": null,
   "metadata": {},
   "outputs": [],
   "source": []
  }
 ],
 "metadata": {
  "kernelspec": {
   "display_name": "Python 3",
   "language": "python",
   "name": "python3"
  },
  "language_info": {
   "codemirror_mode": {
    "name": "ipython",
    "version": 3
   },
   "file_extension": ".py",
   "mimetype": "text/x-python",
   "name": "python",
   "nbconvert_exporter": "python",
   "pygments_lexer": "ipython3",
   "version": "3.6.5"
  }
 },
 "nbformat": 4,
 "nbformat_minor": 2
}
